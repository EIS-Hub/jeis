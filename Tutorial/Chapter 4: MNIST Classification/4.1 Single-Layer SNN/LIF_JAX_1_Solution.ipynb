{
 "cells": [
  {
   "cell_type": "markdown",
   "metadata": {},
   "source": [
    "# Imports"
   ]
  },
  {
   "cell_type": "code",
   "execution_count": null,
   "metadata": {},
   "outputs": [],
   "source": [
    "# install all imports (also later ones) on the jupyter notebook silently if necessary, but check if already installed\n",
    "import sys\n",
    "!{sys.executable} -m pip install --upgrade pip\n",
    "!{sys.executable} -m pip install --upgrade numpy pandas matplotlib seaborn scikit-learn\n",
    "!{sys.executable} -m pip install --upgrade jax optax torch \n"
   ]
  },
  {
   "cell_type": "code",
   "execution_count": 1,
   "metadata": {},
   "outputs": [],
   "source": [
    "import jax \n",
    "import numpy as np\n",
    "import jax.numpy as jnp\n",
    "import matplotlib.pyplot as plt\n",
    "px = 1/plt.rcParams[\"figure.dpi\"]\n",
    "\n",
    "import os\n",
    "\n",
    "# set how much memory in your local CPU/GPU will be pre-allocated for JAX\n",
    "os.environ[\"XLA_PYTHON_CLIENT_MEM_FRACTION\"]=\".75\"\n",
    "\n",
    "import optax"
   ]
  },
  {
   "cell_type": "markdown",
   "metadata": {},
   "source": [
    "# Data Preprocessing"
   ]
  },
  {
   "cell_type": "code",
   "execution_count": 2,
   "metadata": {},
   "outputs": [
    {
     "name": "stdout",
     "output_type": "stream",
     "text": [
      "(60000, 784) (60000,) (10000, 784) (10000,)\n"
     ]
    }
   ],
   "source": [
    "# MNIST dataset, already flat and normalized\n",
    "X_train_1 = jnp.load('../mnist_np/X_train_1.npy') \n",
    "X_train_2 = jnp.load('../mnist_np/X_train_2.npy') \n",
    "X_train_3 = jnp.load('../mnist_np/X_train_3.npy') \n",
    "X_train_4 = jnp.load('../mnist_np/X_train_4.npy') \n",
    "# create X_train out of 4 X_trains\n",
    "X_train = jnp.concatenate([X_train_1, X_train_2, X_train_3, X_train_4], axis=0)\n",
    "y_train = jnp.load('../mnist_np/y_train.npy')\n",
    "X_test = jnp.load('../mnist_np/X_test.npy')\n",
    "y_test = jnp.load('../mnist_np/y_test.npy')\n",
    "print(X_train.shape, y_train.shape, X_test.shape, y_test.shape)"
   ]
  },
  {
   "cell_type": "code",
   "execution_count": 3,
   "metadata": {},
   "outputs": [
    {
     "name": "stdout",
     "output_type": "stream",
     "text": [
      "Encoding the data in batches of 2000 (going above take more time)\n",
      "(100, 2000, 784)\n",
      "(100, 2000, 784)\n",
      "(100, 2000, 784)\n",
      "(100, 2000, 784)\n",
      "(100, 2000, 784)\n"
     ]
    }
   ],
   "source": [
    "def rate_encoding(key, X, sim_len=100):\n",
    "    \n",
    "    def bernoulli_encoding(key, spike_trains, sim_len):\n",
    "        key, subkey = jax.random.split(key)\n",
    "        return key, jax.random.bernoulli(key, spike_trains, (sim_len, spike_trains.shape[0], spike_trains.shape[1]))\n",
    "    \n",
    "    print('Encoding the data in batches of 2000 (going above take more time)')\n",
    "    X_encoded = []\n",
    "    batch_size = 2000\n",
    "    for i in range(X.shape[0]//batch_size):\n",
    "        key, X_encoded_ = bernoulli_encoding(key, X[i*batch_size:(i+1)*batch_size], sim_len=100)\n",
    "        print(X_encoded_.shape)\n",
    "        X_encoded.append(X_encoded_)\n",
    "\n",
    "    return key, jnp.concatenate(X_encoded, axis=1)\n",
    "\n",
    "# do rate encoding on X_test\n",
    "key = jax.random.PRNGKey(9)\n",
    "key, X_test_encoded = rate_encoding(key, X_test, sim_len=100)"
   ]
  },
  {
   "cell_type": "code",
   "execution_count": 4,
   "metadata": {},
   "outputs": [
    {
     "name": "stdout",
     "output_type": "stream",
     "text": [
      "Encoding the data in batches of 2000 (going above take more time)\n",
      "(100, 2000, 784)\n",
      "(100, 2000, 784)\n",
      "(100, 2000, 784)\n",
      "(100, 2000, 784)\n",
      "(100, 2000, 784)\n",
      "(100, 2000, 784)\n",
      "(100, 2000, 784)\n",
      "(100, 2000, 784)\n",
      "(100, 2000, 784)\n",
      "(100, 2000, 784)\n",
      "(100, 2000, 784)\n",
      "(100, 2000, 784)\n",
      "(100, 2000, 784)\n",
      "(100, 2000, 784)\n",
      "(100, 2000, 784)\n",
      "(100, 2000, 784)\n",
      "(100, 2000, 784)\n",
      "(100, 2000, 784)\n",
      "(100, 2000, 784)\n",
      "(100, 2000, 784)\n",
      "(100, 2000, 784)\n",
      "(100, 2000, 784)\n",
      "(100, 2000, 784)\n",
      "(100, 2000, 784)\n",
      "(100, 2000, 784)\n",
      "(100, 2000, 784)\n",
      "(100, 2000, 784)\n",
      "(100, 2000, 784)\n",
      "(100, 2000, 784)\n",
      "(100, 2000, 784)\n"
     ]
    }
   ],
   "source": [
    "# do rate encoding on Xtrain\n",
    "key, X_train_encoded = rate_encoding(key, X_train, sim_len=100)"
   ]
  },
  {
   "cell_type": "code",
   "execution_count": 5,
   "metadata": {},
   "outputs": [
    {
     "name": "stdout",
     "output_type": "stream",
     "text": [
      "X_train_encoded\n",
      "type: <class 'jaxlib.xla_extension.ArrayImpl'>:\n",
      "shape: (100, 60000, 784),\n",
      "datatype: bool\n",
      "Label: 3.0, Input shape: (100, 784)\n"
     ]
    },
    {
     "data": {
      "image/png": "[encoded data removed]",
      "text/plain": [
       "<Figure size 700x500 with 1 Axes>"
      ]
     },
     "metadata": {},
     "output_type": "display_data"
    }
   ],
   "source": [
    "sim_len = 100\n",
    "print(f'X_train_encoded'\n",
    "      f'\\ntype: {type(X_train_encoded)}:'\n",
    "      f'\\nshape: {X_train_encoded.shape},'\n",
    "      f'\\ndatatype: {X_train_encoded.dtype}')\n",
    "\n",
    "# Raster plot of a single digit\n",
    "sample_id = 10\n",
    "input_0 = X_train_encoded[:, sample_id, :]\n",
    "label_0 = y_train[sample_id]\n",
    "print(f'Label: {label_0}, Input shape: {input_0.shape}')\n",
    "# set the 0 to nan for plotting\n",
    "input_0_to_plot = jnp.where(input_0 == 0, jnp.nan, input_0)\n",
    "fig, ax = plt.subplots(1, 1, figsize=(700*px, 500*px))\n",
    "xs = jnp.arange(sim_len)\n",
    "for i in range(784):\n",
    "    ax.plot(xs, input_0_to_plot[:, i]*i, label=f'Neuron {i}', marker='o', markersize=1, color='black')\n",
    "ax.set_xlabel('Time step')\n",
    "ax.set_ylabel('Input spikes')\n",
    "ax.set_xlim(0, sim_len)\n",
    "ax.set_ylim(0, 784)\n",
    "plt.show()"
   ]
  },
  {
   "cell_type": "markdown",
   "metadata": {},
   "source": [
    "## Dataset class"
   ]
  },
  {
   "cell_type": "code",
   "execution_count": 11,
   "metadata": {},
   "outputs": [],
   "source": [
    "class MNISTDataset():\n",
    "    # TODO 1: implement the MNIST dataset class\n",
    "    # NOTE: you will need a __init___, __len__, and __getitem__ method\n",
    "    def __init__(self, X_images,Y_labels):\n",
    "        self.imgs = X_images\n",
    "        self.lbls = Y_labels\n",
    "    def __len__(self): # return length of dataset, i.e. nb of MNIST pictures\n",
    "        return self.imgs.shape[1]\n",
    "\n",
    "    def __getitem__(self, idx):\n",
    "        return self.imgs[:,idx,:], self.lbls[idx]"
   ]
  },
  {
   "cell_type": "code",
   "execution_count": 12,
   "metadata": {},
   "outputs": [],
   "source": [
    "# TODO 2: test functionality of MNISTDataset() class \n",
    "train_dataset = MNISTDataset(X_train_encoded, y_train)\n",
    "test_dataset = MNISTDataset(X_test_encoded, y_test)"
   ]
  },
  {
   "cell_type": "code",
   "execution_count": 14,
   "metadata": {},
   "outputs": [
    {
     "name": "stdout",
     "output_type": "stream",
     "text": [
      "(Array([[False, False, False, ..., False, False, False],\n",
      "       [False, False, False, ..., False, False, False],\n",
      "       [False, False, False, ..., False, False, False],\n",
      "       ...,\n",
      "       [False, False, False, ..., False, False, False],\n",
      "       [False, False, False, ..., False, False, False],\n",
      "       [False, False, False, ..., False, False, False]], dtype=bool), Array(5., dtype=float32))\n",
      "60000\n"
     ]
    }
   ],
   "source": [
    "# TODO 3: test functionality of MNISTDataset() class\n",
    "# test get_item\n",
    "print(train_dataset[0])\n",
    "\n",
    "# test len\n",
    "print(len(train_dataset))"
   ]
  },
  {
   "cell_type": "markdown",
   "metadata": {},
   "source": [
    "## Dataloader"
   ]
  },
  {
   "cell_type": "code",
   "execution_count": 10,
   "metadata": {},
   "outputs": [],
   "source": [
    "from torch.utils.data import DataLoader\n",
    "\n",
    "batch_size=128\n",
    "\n",
    "# TODO 4: implement custom_collate_fn from Aleksej's code (JAX tutorial)\n",
    "def custom_collate_fn(batch):\n",
    "    transposed_data = list(zip(*batch)) # *() unpacks data !\n",
    "\n",
    "    labels= np.array(transposed_data[1])\n",
    "    imgs = np.stack(transposed_data[0])\n",
    "\n",
    "    return imgs, labels\n",
    "\n",
    "# data loader from pytorch\n",
    "train_loader = DataLoader(train_dataset, batch_size, shuffle=True, collate_fn=custom_collate_fn, drop_last=True)\n",
    "test_loader = DataLoader(test_dataset, batch_size, shuffle=False, collate_fn=custom_collate_fn, drop_last=True)"
   ]
  }
 ],
 "metadata": {
  "kernelspec": {
   "display_name": "Python 3",
   "language": "python",
   "name": "python3"
  },
  "language_info": {
   "codemirror_mode": {
    "name": "ipython",
    "version": 3
   },
   "file_extension": ".py",
   "mimetype": "text/x-python",
   "name": "python",
   "nbconvert_exporter": "python",
   "pygments_lexer": "ipython3",
   "version": "3.10.5"
  }
 },
 "nbformat": 4,
 "nbformat_minor": 2
}
